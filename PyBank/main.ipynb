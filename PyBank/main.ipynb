{
 "cells": [
  {
   "cell_type": "code",
   "execution_count": 1,
   "id": "432851bf",
   "metadata": {},
   "outputs": [],
   "source": [
    "import os\n",
    "import csv"
   ]
  },
  {
   "cell_type": "code",
   "execution_count": 2,
   "id": "e8ff6bf6",
   "metadata": {},
   "outputs": [],
   "source": [
    "bank_csv=os.path.join(\"Resource\",\"budget_data.csv\")"
   ]
  },
  {
   "cell_type": "code",
   "execution_count": 3,
   "id": "990ad83c",
   "metadata": {},
   "outputs": [],
   "source": [
    "months=[]\n",
    "total=[]\n",
    "total_change=[]"
   ]
  },
  {
   "cell_type": "code",
   "execution_count": 4,
   "id": "e013b8ad",
   "metadata": {},
   "outputs": [
    {
     "name": "stdout",
     "output_type": "stream",
     "text": [
      "Financial Analysis\n",
      "------------------------------------------------------------------------\n",
      "Total Months: 86\n",
      "Total: 38382578.0\n",
      "Avereage Revenue Change: $ -2315\n",
      "Greatest Increase in Revenue: Feb-2012 ($ 1926159.0 )\n",
      "Greatest Decrease in Revenue: Sep-2013 ($ -2196167.0 )\n"
     ]
    }
   ],
   "source": [
    "with open(bank_csv) as csvfile:\n",
    "    csvreader = csv.reader(csvfile, delimiter=\",\")\n",
    "    \n",
    "    csv_header = next(csvreader)\n",
    "    \n",
    "    for row in csvreader:\n",
    "        \n",
    "        total.append(float(row[1]))\n",
    "        months.append(row[0])\n",
    "    \n",
    "    for i in range(1,len(total)):\n",
    "        total_change.append(total[i] - total[i-1])   \n",
    "        avg_total_change = sum(total_change)/len(total_change)\n",
    "\n",
    "        max_total_change = max(total_change)\n",
    "\n",
    "        min_total_change = min(total_change)\n",
    "\n",
    "        max_total_change_date = str(months[total_change.index(max(total_change))+1])\n",
    "        min_total_change_date = str(months[total_change.index(min(total_change))+1])\n",
    "\n",
    "\n",
    "        \n",
    "print(\"Financial Analysis\")\n",
    "print(\"------------------------------------------------------------------------\")\n",
    "print(f'Total Months: {len(months)}')\n",
    "print(f'Total: {sum(total)}')\n",
    "print(\"Avereage Revenue Change: $\", round(avg_total_change))\n",
    "print(\"Greatest Increase in Revenue:\", max_total_change_date,\"($\", max_total_change,\")\")\n",
    "print(\"Greatest Decrease in Revenue:\", min_total_change_date,\"($\", min_total_change,\")\")\n",
    "\n"
   ]
  },
  {
   "cell_type": "code",
   "execution_count": 10,
   "id": "35f2c15c",
   "metadata": {},
   "outputs": [],
   "source": [
    "with open('analysis/analysis.txt', 'w', newline='') as f:\n",
    "    f.write('Financial Analysis\\n')\n",
    "    f.write(\"------------------------------------------------------------------------\\n\")\n",
    "    f.write(f'Total Months: {len(months)}\\n')\n",
    "    f.write(f'Total: {sum(total)}\\n')\n",
    "    f.write(f'Avereage Revenue Change: $ {avg_total_change}\\n')\n",
    "    f.write(f'Greatest Increase in Revenue:\",{max_total_change_date},\"($ {max_total_change})\\n')\n",
    "    f.write(f'Greatest Decrease in Revenue: ,{min_total_change_date},\"($ {min_total_change})')\n",
    "    "
   ]
  },
  {
   "cell_type": "markdown",
   "id": "41d92d0f",
   "metadata": {},
   "source": []
  }
 ],
 "metadata": {
  "kernelspec": {
   "display_name": "Python 3",
   "language": "python",
   "name": "python3"
  },
  "language_info": {
   "codemirror_mode": {
    "name": "ipython",
    "version": 3
   },
   "file_extension": ".py",
   "mimetype": "text/x-python",
   "name": "python",
   "nbconvert_exporter": "python",
   "pygments_lexer": "ipython3",
   "version": "3.8.8"
  }
 },
 "nbformat": 4,
 "nbformat_minor": 5
}
