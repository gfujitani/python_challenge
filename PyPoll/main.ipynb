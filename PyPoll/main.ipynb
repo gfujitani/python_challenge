{
 "cells": [
  {
   "cell_type": "code",
   "execution_count": 1,
   "id": "58873ace",
   "metadata": {},
   "outputs": [],
   "source": [
    "import os\n",
    "import csv"
   ]
  },
  {
   "cell_type": "code",
   "execution_count": 2,
   "id": "26feba12",
   "metadata": {},
   "outputs": [],
   "source": [
    "poll_csv=os.path.join(\"Resource\",\"election_data.csv\")"
   ]
  },
  {
   "cell_type": "code",
   "execution_count": 3,
   "id": "0b908683",
   "metadata": {},
   "outputs": [],
   "source": [
    "total_votes=0\n",
    "candidate_option=[]\n",
    "candidate_votes={}\n",
    "winning_candidate=\"\"\n",
    "winning_count=0\n",
    "winning_percentage=0"
   ]
  },
  {
   "cell_type": "code",
   "execution_count": 4,
   "id": "3dd8ee38",
   "metadata": {},
   "outputs": [],
   "source": [
    "with open(poll_csv) as csvfile:\n",
    "    \n",
    "    csvreader = csv.reader(csvfile, delimiter=\",\")\n",
    "    \n",
    "    csv_header = next(csvreader)\n",
    "    \n",
    "    for row in csvreader:\n",
    "        total_votes+=1\n",
    "        candidate_name=row[2]\n",
    "        \n",
    "        if candidate_name not in candidate_option:\n",
    "            candidate_option.append(candidate_name)\n",
    "            candidate_votes[candidate_name]=0\n",
    "        candidate_votes[candidate_name]+=1\n"
   ]
  },
  {
   "cell_type": "code",
   "execution_count": 10,
   "id": "a60dd948",
   "metadata": {},
   "outputs": [
    {
     "name": "stdout",
     "output_type": "stream",
     "text": [
      "Election Results\n",
      "---------------------\n",
      "Total Votes: 3521001\n",
      "---------------------\n",
      "\n",
      "Khan: 63.00001050837531% (2218231)\n",
      "Correy: 19.999994319797125% (704200)\n",
      "Li: 13.999996023857989% (492940)\n",
      "O'Tooley: 2.999999147969569% (105630)\n",
      "-------------------------\n",
      "Winner: Khan\n",
      "-------------------------\n",
      "\n"
     ]
    }
   ],
   "source": [
    "with open('analysis/analysis.txt', 'w') as analysis:\n",
    "    election_results=(f'Election Results\\n'\n",
    "                     f'---------------------\\n'\n",
    "                      f'Total Votes: {total_votes}\\n'\n",
    "                      f'---------------------\\n')\n",
    "    print(election_results)\n",
    "    analysis.write(election_results)\n",
    "    \n",
    "    for candidate in candidate_votes:\n",
    "                      votes=candidate_votes[candidate]\n",
    "                      vote_percentage= float(votes)/float(total_votes)*100\n",
    "                      candidate_results=(\n",
    "                          f'{candidate}: {vote_percentage}% ({votes})')\n",
    "                      print(candidate_results)\n",
    "                      analysis.write(candidate_results)\n",
    "                      if (votes > winning_count) and (vote_percentage > winning_percentage):\n",
    "                          winning_count = votes\n",
    "                          winning_candidate = candidate\n",
    "                          winning_percentage = vote_percentage\n",
    "    winning_candidate_summary = (\n",
    "        f\"-------------------------\\n\"\n",
    "        f\"Winner: {winning_candidate}\\n\"\n",
    "        f\"-------------------------\\n\")\n",
    "    print(winning_candidate_summary)\n",
    "    analysis.write(winning_candidate_summary)"
   ]
  },
  {
   "cell_type": "code",
   "execution_count": null,
   "id": "daa2084b",
   "metadata": {},
   "outputs": [],
   "source": []
  }
 ],
 "metadata": {
  "kernelspec": {
   "display_name": "Python 3",
   "language": "python",
   "name": "python3"
  },
  "language_info": {
   "codemirror_mode": {
    "name": "ipython",
    "version": 3
   },
   "file_extension": ".py",
   "mimetype": "text/x-python",
   "name": "python",
   "nbconvert_exporter": "python",
   "pygments_lexer": "ipython3",
   "version": "3.8.8"
  }
 },
 "nbformat": 4,
 "nbformat_minor": 5
}
